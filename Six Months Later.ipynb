{
 "cells": [
  {
   "cell_type": "code",
   "execution_count": null,
   "metadata": {
    "collapsed": true
   },
   "outputs": [],
   "source": [
    "import numpy as np\n",
    "import pandas as pd\n",
    "import matplotlib.pyplot as plt\n",
    "import seaborn as sns\n",
    "%matplotlib inline  "
   ]
  },
  {
   "cell_type": "code",
   "execution_count": null,
   "metadata": {
    "collapsed": true
   },
   "outputs": [],
   "source": [
    "df = pd.read_csv('raw data 2.csv')"
   ]
  },
  {
   "cell_type": "code",
   "execution_count": null,
   "metadata": {
    "scrolled": true
   },
   "outputs": [],
   "source": [
    "# first column as a Series\n",
    "df.iloc[:,1]"
   ]
  },
  {
   "cell_type": "code",
   "execution_count": null,
   "metadata": {},
   "outputs": [],
   "source": [
    "df.columns.values"
   ]
  },
  {
   "cell_type": "markdown",
   "metadata": {},
   "source": [
    "# Age distribution"
   ]
  },
  {
   "cell_type": "code",
   "execution_count": null,
   "metadata": {
    "scrolled": false
   },
   "outputs": [],
   "source": [
    "# age distribution\n",
    "plt.hist(df.iloc[:,1].dropna().values, bins='auto', histtype='bar')\n",
    "plt.gcf().set_size_inches(16,4)"
   ]
  },
  {
   "cell_type": "code",
   "execution_count": null,
   "metadata": {},
   "outputs": [],
   "source": [
    "# time in europe and france\n",
    "time_df = df.iloc[:,3:5]\n",
    "\n",
    "europe = time_df['How long have you been in Europe? [In months]']\n",
    "print europe[europe < 2014]\n",
    "france = time_df['How long have you been in France?  [In months]']\n",
    "\n",
    "data = pd.DataFrame({'Months in Europe': europe[europe < 2014], 'Months in France': france[france < 2014]})\n",
    "\n",
    "# print(time_df['How long have you been in France?  [In months]])\n",
    "sns.lmplot('Months in Europe', 'Months in France', data, size=4, aspect=2)"
   ]
  },
  {
   "cell_type": "code",
   "execution_count": null,
   "metadata": {},
   "outputs": [],
   "source": [
    "time_df.columns"
   ]
  },
  {
   "cell_type": "code",
   "execution_count": null,
   "metadata": {},
   "outputs": [],
   "source": [
    "time_df['How long have you been in Europe? [In months]'].describe()\n",
    "# time_df['How long have you been in France?  [In months]']"
   ]
  },
  {
   "cell_type": "code",
   "execution_count": null,
   "metadata": {
    "collapsed": true
   },
   "outputs": [],
   "source": [
    "europe = time_df['How long have you been in Europe? [In months]']"
   ]
  },
  {
   "cell_type": "code",
   "execution_count": null,
   "metadata": {},
   "outputs": [],
   "source": [
    "europe[europe < 2014].describe()"
   ]
  },
  {
   "cell_type": "code",
   "execution_count": null,
   "metadata": {},
   "outputs": [],
   "source": [
    "plt.hist(europe[europe < 2014], bins=100, histtype='bar')"
   ]
  },
  {
   "cell_type": "markdown",
   "metadata": {},
   "source": [
    "# Notes to feedback\n",
    "* 2014 entered in months"
   ]
  },
  {
   "cell_type": "markdown",
   "metadata": {},
   "source": [
    "# Ideas\n",
    "* Element based representation: showing age, gender and possibly origin in each node.  Switches cluster them according to other criteria, e.g. gassed.  Can also include timeline."
   ]
  },
  {
   "cell_type": "markdown",
   "metadata": {
    "collapsed": true
   },
   "source": [
    "# Output"
   ]
  },
  {
   "cell_type": "code",
   "execution_count": null,
   "metadata": {},
   "outputs": [],
   "source": [
    "import pandas as pd\n",
    "# processing it from raw\n",
    "df = pd.read_csv('raw data 2.csv')\n",
    "# df.columns = ['gender']\n",
    "# print(df.columns.values)\n",
    "\n",
    "# merge some countries of origin\n",
    "# 'What is your country of origin?'\n",
    "print(set(df['What is your country of origin?']))\n",
    "def countryNormalise(country):\n",
    "    print type(country)\n",
    "    if (type(country) == float):\n",
    "        return 'Other'\n",
    "    if (len(country) == 0) | (country == 'Tajikistan'):\n",
    "        return 'Other';\n",
    "    return str(country).replace(' (Oromo)', '').replace(' (Kurdish)', '')\n",
    "\n",
    "df['What is your country of origin?'] = [countryNormalise(country) for country in df['What is your country of origin?']]\n",
    "\n",
    "df = df.iloc[:,[0,1,2,3,4,5,11,23, 36,43,44]]#, 128]] # 23 - where are they\n",
    "df.columns = ['gender','age','country of origin','months in europe','months in france','who with in calais','family in europe','european family','dublin applied', 'feel safe in calais', 'experienced tear gas or violence by french police']#, 'id']\n",
    "df.to_csv('6m_vis_data.csv', index_label='index')"
   ]
  },
  {
   "cell_type": "code",
   "execution_count": null,
   "metadata": {},
   "outputs": [],
   "source": [
    "df.age.describe()"
   ]
  },
  {
   "cell_type": "code",
   "execution_count": null,
   "metadata": {},
   "outputs": [],
   "source": [
    "set(df['country of origin'])"
   ]
  },
  {
   "cell_type": "code",
   "execution_count": null,
   "metadata": {},
   "outputs": [],
   "source": [
    "df['country of origin'] = [countryMerge(country) for country in df['country of origin']]"
   ]
  },
  {
   "cell_type": "code",
   "execution_count": null,
   "metadata": {},
   "outputs": [],
   "source": [
    "'Ethiopia (Oromo)'.replace(' (Oromo)', '')"
   ]
  },
  {
   "cell_type": "code",
   "execution_count": null,
   "metadata": {},
   "outputs": [],
   "source": [
    "x = 0.0\n",
    "type(x) == float"
   ]
  },
  {
   "cell_type": "code",
   "execution_count": null,
   "metadata": {},
   "outputs": [],
   "source": [
    "str(x)"
   ]
  },
  {
   "cell_type": "code",
   "execution_count": null,
   "metadata": {
    "collapsed": true
   },
   "outputs": [],
   "source": [
    "def countryNormalise(country):\n",
    "    if (len(country) == 0) | (country == 'Tajikistan'):\n",
    "        return 'Other';\n",
    "    return str(country).replace(' (Oromo)', '').replace(' (Kurdish)', '')"
   ]
  },
  {
   "cell_type": "code",
   "execution_count": null,
   "metadata": {
    "collapsed": true
   },
   "outputs": [],
   "source": []
  }
 ],
 "metadata": {
  "kernelspec": {
   "display_name": "Python 2",
   "language": "python",
   "name": "python2"
  },
  "language_info": {
   "codemirror_mode": {
    "name": "ipython",
    "version": 2
   },
   "file_extension": ".py",
   "mimetype": "text/x-python",
   "name": "python",
   "nbconvert_exporter": "python",
   "pygments_lexer": "ipython2",
   "version": "2.7.13"
  }
 },
 "nbformat": 4,
 "nbformat_minor": 2
}
